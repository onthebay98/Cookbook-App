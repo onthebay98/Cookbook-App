{
 "cells": [
  {
   "cell_type": "code",
   "execution_count": 97,
   "id": "4527a24d-f202-4962-9a58-fdf4b48055e5",
   "metadata": {},
   "outputs": [],
   "source": [
    "import requests\n",
    "from bs4 import BeautifulSoup\n",
    "import re"
   ]
  },
  {
   "cell_type": "code",
   "execution_count": 98,
   "id": "0f46df4c-256a-479f-baae-e04bdf169dba",
   "metadata": {},
   "outputs": [],
   "source": [
    "URL = \"https://www.allrecipes.com/recipe/235052/moms-potato-latkes/\""
   ]
  },
  {
   "cell_type": "code",
   "execution_count": 159,
   "id": "cd730b05-b40d-4c14-b1d9-736ff92c0668",
   "metadata": {},
   "outputs": [],
   "source": [
    "URL = \"https://www.allrecipes.com/recipe/158799/stout-braised-lamb-shanks/\""
   ]
  },
  {
   "cell_type": "code",
   "execution_count": 160,
   "id": "2159f5aa-c32c-4ca6-9ad6-05ea053192d4",
   "metadata": {
    "tags": []
   },
   "outputs": [],
   "source": [
    "soup = BeautifulSoup(requests.get(URL).content, \"html.parser\")"
   ]
  },
  {
   "cell_type": "code",
   "execution_count": 161,
   "id": "72f7b7ed-8b3b-43ed-9586-2e90d141139e",
   "metadata": {},
   "outputs": [
    {
     "ename": "KeyError",
     "evalue": "'data-src'",
     "output_type": "error",
     "traceback": [
      "\u001b[0;31m---------------------------------------------------------------------------\u001b[0m",
      "\u001b[0;31mKeyError\u001b[0m                                  Traceback (most recent call last)",
      "Input \u001b[0;32mIn [161]\u001b[0m, in \u001b[0;36m<cell line: 1>\u001b[0;34m()\u001b[0m\n\u001b[0;32m----> 1\u001b[0m \u001b[43msoup\u001b[49m\u001b[38;5;241;43m.\u001b[39;49m\u001b[43mfindAll\u001b[49m\u001b[43m(\u001b[49m\u001b[38;5;124;43m'\u001b[39;49m\u001b[38;5;124;43mimg\u001b[39;49m\u001b[38;5;124;43m'\u001b[39;49m\u001b[43m)\u001b[49m\u001b[43m[\u001b[49m\u001b[38;5;241;43m0\u001b[39;49m\u001b[43m]\u001b[49m\u001b[38;5;241;43m.\u001b[39;49m\u001b[43mattrs\u001b[49m\u001b[43m[\u001b[49m\u001b[38;5;124;43m'\u001b[39;49m\u001b[38;5;124;43mdata-src\u001b[39;49m\u001b[38;5;124;43m'\u001b[39;49m\u001b[43m]\u001b[49m\n",
      "\u001b[0;31mKeyError\u001b[0m: 'data-src'"
     ]
    }
   ],
   "source": [
    "soup.findAll('img')[0].attrs['data-src']"
   ]
  },
  {
   "cell_type": "code",
   "execution_count": 162,
   "id": "dc88e902-237e-4bca-b525-91dd4cefafb7",
   "metadata": {},
   "outputs": [
    {
     "data": {
      "text/plain": [
       "'https://www.allrecipes.com/thmb/elVkuNDpi7nMEb1ZYxH07KJKKzQ=/1500x0/filters:no_upscale():max_bytes(150000):strip_icc()/1364163-a74729ce4e9746b0923d7b01575c790b.jpg'"
      ]
     },
     "execution_count": 162,
     "metadata": {},
     "output_type": "execute_result"
    }
   ],
   "source": [
    "soup.findAll('img')[0].attrs['src'].strip()"
   ]
  },
  {
   "cell_type": "code",
   "execution_count": null,
   "id": "7f17fd76-eb62-4602-9716-a80ca9963e81",
   "metadata": {},
   "outputs": [],
   "source": []
  }
 ],
 "metadata": {
  "kernelspec": {
   "display_name": "Python 3 (ipykernel)",
   "language": "python",
   "name": "python3"
  },
  "language_info": {
   "codemirror_mode": {
    "name": "ipython",
    "version": 3
   },
   "file_extension": ".py",
   "mimetype": "text/x-python",
   "name": "python",
   "nbconvert_exporter": "python",
   "pygments_lexer": "ipython3",
   "version": "3.9.12"
  }
 },
 "nbformat": 4,
 "nbformat_minor": 5
}
