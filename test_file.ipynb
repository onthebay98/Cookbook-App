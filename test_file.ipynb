{
 "cells": [
  {
   "cell_type": "code",
   "execution_count": 97,
   "id": "4527a24d-f202-4962-9a58-fdf4b48055e5",
   "metadata": {},
   "outputs": [],
   "source": [
    "import requests\n",
    "from bs4 import BeautifulSoup\n",
    "import re"
   ]
  },
  {
   "cell_type": "code",
   "execution_count": 98,
   "id": "0f46df4c-256a-479f-baae-e04bdf169dba",
   "metadata": {},
   "outputs": [],
   "source": [
    "URL = \"https://www.allrecipes.com/recipe/158799/stout-braised-lamb-shanks/\""
   ]
  },
  {
   "cell_type": "code",
   "execution_count": 99,
   "id": "2159f5aa-c32c-4ca6-9ad6-05ea053192d4",
   "metadata": {
    "tags": []
   },
   "outputs": [],
   "source": [
    "soup = BeautifulSoup(requests.get(URL).content, \"html.parser\")"
   ]
  },
  {
   "cell_type": "code",
   "execution_count": 142,
   "id": "7278c96d-9020-4d29-808f-1aeae278c11e",
   "metadata": {},
   "outputs": [],
   "source": [
    "timesandservings = [x.replace('\\n', ' ').replace(\"  \", \" \").strip() for x in list(soup.find(\"div\", {\"id\": \"recipe-details_1-0\"}))[1].text.strip().split('\\n\\n\\n')]\n",
    "dict(x.split(\": \") for x in timesandservings)"
   ]
  },
  {
   "cell_type": "code",
   "execution_count": 143,
   "id": "3076f7fc-744a-4f5f-aa88-2de00340d640",
   "metadata": {},
   "outputs": [
    {
     "data": {
      "text/plain": [
       "{'Prep Time': '25 mins',\n",
       " 'Cook Time': '2 hrs 25 mins',\n",
       " 'Total Time': '2 hrs 50 mins',\n",
       " 'Servings': '4',\n",
       " 'Yield': '4 lamb shanks'}"
      ]
     },
     "execution_count": 143,
     "metadata": {},
     "output_type": "execute_result"
    }
   ],
   "source": []
  },
  {
   "cell_type": "code",
   "execution_count": 144,
   "id": "c3131c52-f011-4690-8c85-44c6471150f5",
   "metadata": {},
   "outputs": [
    {
     "data": {
      "text/plain": [
       "True"
      ]
     },
     "execution_count": 144,
     "metadata": {},
     "output_type": "execute_result"
    }
   ],
   "source": [
    "\"allrecipes\" in \"https://www.allrecipes.com/recipe/269881/saucy-sriracha-franks/\".lower()"
   ]
  },
  {
   "cell_type": "code",
   "execution_count": null,
   "id": "72f7b7ed-8b3b-43ed-9586-2e90d141139e",
   "metadata": {},
   "outputs": [],
   "source": []
  }
 ],
 "metadata": {
  "kernelspec": {
   "display_name": "Python 3 (ipykernel)",
   "language": "python",
   "name": "python3"
  },
  "language_info": {
   "codemirror_mode": {
    "name": "ipython",
    "version": 3
   },
   "file_extension": ".py",
   "mimetype": "text/x-python",
   "name": "python",
   "nbconvert_exporter": "python",
   "pygments_lexer": "ipython3",
   "version": "3.9.12"
  }
 },
 "nbformat": 4,
 "nbformat_minor": 5
}
