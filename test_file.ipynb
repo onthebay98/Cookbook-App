{
 "cells": [
  {
   "cell_type": "code",
   "execution_count": 97,
   "id": "4527a24d-f202-4962-9a58-fdf4b48055e5",
   "metadata": {},
   "outputs": [],
   "source": [
    "import requests\n",
    "from bs4 import BeautifulSoup\n",
    "import re"
   ]
  },
  {
   "cell_type": "code",
   "execution_count": 98,
   "id": "0f46df4c-256a-479f-baae-e04bdf169dba",
   "metadata": {},
   "outputs": [],
   "source": [
    "URL = \"https://www.allrecipes.com/recipe/158799/stout-braised-lamb-shanks/\""
   ]
  },
  {
   "cell_type": "code",
   "execution_count": 99,
   "id": "2159f5aa-c32c-4ca6-9ad6-05ea053192d4",
   "metadata": {
    "tags": []
   },
   "outputs": [],
   "source": [
    "soup = BeautifulSoup(requests.get(URL).content, \"html.parser\")"
   ]
  },
  {
   "cell_type": "code",
   "execution_count": 120,
   "id": "7278c96d-9020-4d29-808f-1aeae278c11e",
   "metadata": {},
   "outputs": [
    {
     "data": {
      "text/plain": [
       "['Heat oil in a Dutch oven or large, wide pot over medium-high heat until oil begins to smoke. Sear lamb shanks in hot oil on all sides until browned, about 10 minutes. Remove lamb shanks and set aside. Drain excess grease.',\n",
       " 'Add onion and garlic to the Dutch oven over medium heat. Cook and stir until onion is softened and translucent, about 5 minutes. Stir in carrots, celery, and tomato paste; cook for 5 minutes more.',\n",
       " 'Return lamb shanks to the Dutch oven and pour in broth and stout beer. Use kitchen twine to tie together thyme, parsley, and bay leaf into a secure bundle; add to lamb shanks. Bring to a boil.',\n",
       " 'Reduce heat to medium-low, cover, and simmer, stirring occasionally, until lamb is tender and nearly falls off the bone, 2 to 3 hours. Stir in rosemary sprig and season with salt and pepper during the last 10 minutes of cooking. Remove rosemary sprig and herb bundle before serving.',\n",
       " 'You can add water in step 4 to keep the cooking liquid from becoming too thick. The cooking liquid should reduce into a nice sauce when lamb shanks are done.']"
      ]
     },
     "execution_count": 120,
     "metadata": {},
     "output_type": "execute_result"
    }
   ],
   "source": [
    "[x.text.strip() for x in soup.find(\"div\", {\"id\": \"recipe__steps-content_1-0\"}).find_all(\"p\")]"
   ]
  },
  {
   "cell_type": "code",
   "execution_count": null,
   "id": "3076f7fc-744a-4f5f-aa88-2de00340d640",
   "metadata": {},
   "outputs": [],
   "source": []
  }
 ],
 "metadata": {
  "kernelspec": {
   "display_name": "Python 3 (ipykernel)",
   "language": "python",
   "name": "python3"
  },
  "language_info": {
   "codemirror_mode": {
    "name": "ipython",
    "version": 3
   },
   "file_extension": ".py",
   "mimetype": "text/x-python",
   "name": "python",
   "nbconvert_exporter": "python",
   "pygments_lexer": "ipython3",
   "version": "3.9.12"
  }
 },
 "nbformat": 4,
 "nbformat_minor": 5
}
