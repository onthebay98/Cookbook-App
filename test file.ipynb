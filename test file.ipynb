{
 "cells": [
  {
   "cell_type": "code",
   "execution_count": 69,
   "id": "4527a24d-f202-4962-9a58-fdf4b48055e5",
   "metadata": {},
   "outputs": [],
   "source": [
    "import requests\n",
    "from bs4 import BeautifulSoup\n",
    "import re"
   ]
  },
  {
   "cell_type": "code",
   "execution_count": 70,
   "id": "0f46df4c-256a-479f-baae-e04bdf169dba",
   "metadata": {},
   "outputs": [],
   "source": [
    "URL = \"https://www.allrecipes.com/recipe/158799/stout-braised-lamb-shanks/\""
   ]
  },
  {
   "cell_type": "code",
   "execution_count": 75,
   "id": "2159f5aa-c32c-4ca6-9ad6-05ea053192d4",
   "metadata": {
    "tags": []
   },
   "outputs": [],
   "source": [
    "soup = BeautifulSoup(requests.get(URL).content, \"html.parser\")"
   ]
  },
  {
   "cell_type": "code",
   "execution_count": 87,
   "id": "4d217156-58c1-40dc-909f-ce640ddd1d79",
   "metadata": {},
   "outputs": [],
   "source": [
    "recipe_attrs = soup.find(\"div\", {\"id\": \"recipe-details_1-0\"}).find_all(\"div\", {\"class\": \"mntl-recipe-details__value\"})"
   ]
  },
  {
   "cell_type": "code",
   "execution_count": 89,
   "id": "06abc2bb-11be-4c42-8920-e6ca613c13ce",
   "metadata": {},
   "outputs": [],
   "source": [
    "recipe_attrs = soup.find(\"div\", {\"id\": \"recipe-details_1-0\"}).find_all(\"div\", {\"class\": \"mntl-recipe-details__value\"})\n",
    "attrs = [attribute.text.strip() for attribute in recipe_attrs] # get 5 attributes; we only need the first four"
   ]
  },
  {
   "cell_type": "code",
   "execution_count": 90,
   "id": "ca098cb5-8636-4597-966d-b4e5fecd6db6",
   "metadata": {},
   "outputs": [
    {
     "data": {
      "text/plain": [
       "['25 mins', '2 hrs 25 mins', '2 hrs 50 mins', '4', '4 lamb shanks']"
      ]
     },
     "execution_count": 90,
     "metadata": {},
     "output_type": "execute_result"
    }
   ],
   "source": [
    "attrs"
   ]
  },
  {
   "cell_type": "code",
   "execution_count": 91,
   "id": "ed6ea57d-20be-4a42-baf4-568e95ae8483",
   "metadata": {},
   "outputs": [
    {
     "data": {
      "text/plain": [
       "['2', 'hrs', '25', 'mins']"
      ]
     },
     "execution_count": 91,
     "metadata": {},
     "output_type": "execute_result"
    }
   ],
   "source": [
    "'2 hrs 25 mins'.split(' ')"
   ]
  },
  {
   "cell_type": "code",
   "execution_count": null,
   "id": "9b7b5878-3f8a-4a8b-a5ce-9de348649624",
   "metadata": {},
   "outputs": [],
   "source": [
    "timestring = '2 hrs 25 mins'"
   ]
  },
  {
   "cell_type": "code",
   "execution_count": null,
   "id": "80ac6d49-b155-4321-807d-4df4d30072d8",
   "metadata": {},
   "outputs": [],
   "source": [
    "if 'hrs' in timestring:\n",
    "    times = timestring.split(' ')\n",
    "    hours = times[0]\n",
    "    minutes = times[2]\n",
    "    \n",
    "    return int(60*float(hours) + float(minutes))\n",
    "    return"
   ]
  }
 ],
 "metadata": {
  "kernelspec": {
   "display_name": "Python 3 (ipykernel)",
   "language": "python",
   "name": "python3"
  },
  "language_info": {
   "codemirror_mode": {
    "name": "ipython",
    "version": 3
   },
   "file_extension": ".py",
   "mimetype": "text/x-python",
   "name": "python",
   "nbconvert_exporter": "python",
   "pygments_lexer": "ipython3",
   "version": "3.9.12"
  }
 },
 "nbformat": 4,
 "nbformat_minor": 5
}
