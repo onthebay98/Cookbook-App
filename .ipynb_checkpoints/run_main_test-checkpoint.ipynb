{
 "cells": [
  {
   "cell_type": "code",
   "execution_count": 1,
   "id": "2e8b549c-19e3-429b-83e8-b6a63cffae87",
   "metadata": {},
   "outputs": [],
   "source": [
    "from allrecipes import allRecipesInitializer"
   ]
  },
  {
   "cell_type": "code",
   "execution_count": 2,
   "id": "7ed59ad5-e301-4517-ad40-6b367ce2aac3",
   "metadata": {},
   "outputs": [],
   "source": [
    "def __main__(URL):\n",
    "    if \"allrecipes\" in URL:\n",
    "        recipe = allRecipesInitializer(URL)\n",
    "        return recipe\n",
    "        # add some error catch for 404s?"
   ]
  },
  {
   "cell_type": "code",
   "execution_count": 3,
   "id": "c157834b-6997-4d57-9014-77dc7d0b21d7",
   "metadata": {},
   "outputs": [],
   "source": [
    "URL = \"https://www.allrecipes.com/recipe/158799/stout-braised-lamb-shanks/\""
   ]
  },
  {
   "cell_type": "code",
   "execution_count": 4,
   "id": "a35db2e7-11a0-4d80-abf2-122d99c9666b",
   "metadata": {},
   "outputs": [],
   "source": [
    "recipe = __main__(URL)"
   ]
  },
  {
   "cell_type": "code",
   "execution_count": 5,
   "id": "47f15a04-5029-45d2-b255-ed9498205129",
   "metadata": {},
   "outputs": [
    {
     "data": {
      "text/plain": [
       "145"
      ]
     },
     "execution_count": 5,
     "metadata": {},
     "output_type": "execute_result"
    }
   ],
   "source": [
    "recipe.cooktime"
   ]
  },
  {
   "cell_type": "code",
   "execution_count": 6,
   "id": "b9ee012d-c89b-497d-a281-a6154f960a80",
   "metadata": {},
   "outputs": [
    {
     "name": "stdout",
     "output_type": "stream",
     "text": [
      "Recipe for Stout-Braised Lamb Shanks. Serves 4. From https://www.allrecipes.com/recipe/158799/stout-braised-lamb-shanks/\n"
     ]
    }
   ],
   "source": [
    "print(recipe)"
   ]
  },
  {
   "cell_type": "code",
   "execution_count": 7,
   "id": "d101c04b-8684-4eb9-afed-2e7d9f09240b",
   "metadata": {},
   "outputs": [
    {
     "name": "stdout",
     "output_type": "stream",
     "text": [
      "salt and pepper to taste\n",
      "4 lamb shanks\n",
      "1 (12 fluid ounce) bottle stout (such as Guinness®) or porter\n",
      "4 cloves garlic, chopped\n",
      "3 sprigs fresh thyme\n",
      "2 carrots, chopped\n",
      "3 sprigs fresh parsley\n",
      "1 onion, chopped\n",
      "2 celery ribs, chopped\n",
      "1 tablespoon vegetable oil\n",
      "1 bay leaf\n",
      "2 tablespoons tomato paste\n",
      "1 sprig fresh rosemary\n",
      "1 (14 ounce) can beef broth\n"
     ]
    }
   ],
   "source": [
    "for ingredient in recipe.ingredients:\n",
    "    print(ingredient)"
   ]
  },
  {
   "cell_type": "code",
   "execution_count": null,
   "id": "af0f8750-a200-4c84-b956-319a8e89f80a",
   "metadata": {},
   "outputs": [],
   "source": []
  }
 ],
 "metadata": {
  "kernelspec": {
   "display_name": "Python 3 (ipykernel)",
   "language": "python",
   "name": "python3"
  },
  "language_info": {
   "codemirror_mode": {
    "name": "ipython",
    "version": 3
   },
   "file_extension": ".py",
   "mimetype": "text/x-python",
   "name": "python",
   "nbconvert_exporter": "python",
   "pygments_lexer": "ipython3",
   "version": "3.9.12"
  }
 },
 "nbformat": 4,
 "nbformat_minor": 5
}
