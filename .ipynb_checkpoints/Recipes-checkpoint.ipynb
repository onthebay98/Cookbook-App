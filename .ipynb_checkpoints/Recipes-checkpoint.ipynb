{
 "cells": [
  {
   "cell_type": "code",
   "execution_count": 1,
   "id": "2e8b549c-19e3-429b-83e8-b6a63cffae87",
   "metadata": {},
   "outputs": [],
   "source": [
    "from AllRecipes import allRecipesInitializer"
   ]
  },
  {
   "cell_type": "code",
   "execution_count": 2,
   "id": "7ed59ad5-e301-4517-ad40-6b367ce2aac3",
   "metadata": {},
   "outputs": [],
   "source": [
    "def __main__(URL):\n",
    "    if \"allrecipes\" in URL:\n",
    "        recipe = allRecipesInitializer(URL)\n",
    "        # add some error catch for 404s?"
   ]
  },
  {
   "cell_type": "code",
   "execution_count": 3,
   "id": "c157834b-6997-4d57-9014-77dc7d0b21d7",
   "metadata": {},
   "outputs": [],
   "source": [
    "URL = \"https://www.allrecipes.com/recipe/158799/stout-braised-lamb-shanks/\""
   ]
  },
  {
   "cell_type": "code",
   "execution_count": 5,
   "id": "a35db2e7-11a0-4d80-abf2-122d99c9666b",
   "metadata": {},
   "outputs": [],
   "source": [
    "__main__(URL)"
   ]
  },
  {
   "cell_type": "code",
   "execution_count": null,
   "id": "b9ee012d-c89b-497d-a281-a6154f960a80",
   "metadata": {},
   "outputs": [],
   "source": []
  }
 ],
 "metadata": {
  "kernelspec": {
   "display_name": "Python 3 (ipykernel)",
   "language": "python",
   "name": "python3"
  },
  "language_info": {
   "codemirror_mode": {
    "name": "ipython",
    "version": 3
   },
   "file_extension": ".py",
   "mimetype": "text/x-python",
   "name": "python",
   "nbconvert_exporter": "python",
   "pygments_lexer": "ipython3",
   "version": "3.9.12"
  }
 },
 "nbformat": 4,
 "nbformat_minor": 5
}
